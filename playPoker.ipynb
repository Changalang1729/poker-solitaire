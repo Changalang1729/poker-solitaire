{
 "cells": [
  {
   "cell_type": "code",
   "execution_count": 1,
   "metadata": {},
   "outputs": [],
   "source": [
    "import itertools\n",
    "from treys import Card\n",
    "from treys import Evaluator\n",
    "from treys import Deck"
   ]
  },
  {
   "cell_type": "code",
   "execution_count": 2,
   "metadata": {},
   "outputs": [],
   "source": [
    "def lget(l, index, default=None):\n",
    "    try:\n",
    "        return l[index]\n",
    "    except IndexError:\n",
    "        return default"
   ]
  },
  {
   "cell_type": "code",
   "execution_count": 3,
   "metadata": {},
   "outputs": [],
   "source": [
    "def typeOfCard(card, cardsDesired):\n",
    "    if not cardsDesired:\n",
    "        return True\n",
    "    \n",
    "    return card in cardsDesired"
   ]
  },
  {
   "cell_type": "code",
   "execution_count": 13,
   "metadata": {},
   "outputs": [],
   "source": [
    "%reload_ext autoreload\n",
    "%autoreload 2\n",
    "from strategies import *\n",
    "\n",
    "keyWords = {'FirstFive':1, 'FirstFlush':1,'FirstPair':1,'FirstTwoPair':1,'FirstTrips':1}\n",
    "\n",
    "def simulatePokerSolitaire(cardsDesired, keyWord = None):\n",
    "    playerCards, communityCards, deck = [], [], Deck()\n",
    "\n",
    "    if keyWord is None:\n",
    "        # run with cardsDesired\n",
    "        while len(playerCards) < 5:\n",
    "            card = deck.draw(1)\n",
    "        if typeOfCard(Card.print_pretty_card(card), Card.print_pretty_cards(cardsDesired)):\n",
    "            playerCards.append(card)\n",
    "        else:\n",
    "            communityCards.append(card)\n",
    "    elif keyWord not in keyWords:\n",
    "        raise SyntaxError(\"Invalid keyword\")\n",
    "    else:\n",
    "        keyWord = keyWord + '(deck)'\n",
    "        playerCards, communityCards = eval(keyWord)\n",
    "\n",
    "    numOfCardsNeeded = 5 - len(communityCards)\n",
    "    if numOfCardsNeeded > 0:\n",
    "        cards = deck.draw(numOfCardsNeeded)\n",
    "        if numOfCardsNeeded == 1:\n",
    "            cards = [cards]\n",
    "        communityCards = communityCards + cards\n",
    "\n",
    "    return playerCards, communityCards"
   ]
  },
  {
   "cell_type": "code",
   "execution_count": 7,
   "metadata": {},
   "outputs": [],
   "source": [
    "def findBestCombination(totalCombinations, highestScore, evaluator):\n",
    "    for combination in totalCombinations:\n",
    "        if evaluator.evaluate(list(combination), []) == highestScore:\n",
    "            return list(combination)\n",
    "    \n",
    "    return None"
   ]
  },
  {
   "cell_type": "code",
   "execution_count": 8,
   "metadata": {},
   "outputs": [],
   "source": [
    "def evaluateBetterHand(playerCards, communityCards):\n",
    "    evaluator = Evaluator()\n",
    "    playerScore = evaluator.evaluate(playerCards, [])\n",
    "    totalCombinations = [combinationCommunityCards for combinationCommunityCards in itertools.combinations(communityCards, 5)]\n",
    "    highestScore = min(evaluator.evaluate(list(combination), []) for combination in totalCombinations)\n",
    "    bestCommunityCombination = findBestCombination(totalCombinations, highestScore, evaluator)\n",
    "    \n",
    "    print(playerScore, highestScore)\n",
    "    return highestScore >= playerScore, bestCommunityCombination"
   ]
  },
  {
   "cell_type": "code",
   "execution_count": 9,
   "metadata": {},
   "outputs": [],
   "source": [
    "def playPoker(enterHand, keyWord):\n",
    "    numericCardHand = [((CHAR_RANK_TO_INT_RANK[lget(card, 0)] << 8) + \n",
    "                        (CHAR_SUIT_TO_INT_SUIT[lget(card, 1)] << 12)) for card in enterHand]\n",
    "    playerCards, communityCards = simulatePokerSolitaire(numericCardHand, keyWord)\n",
    "    playerWin, bestCommunityCombination = evaluateBetterHand(playerCards, communityCards)\n",
    "    \n",
    "    return playerWin, Card.print_pretty_cards(playerCards), Card.print_pretty_cards(communityCards), Card.print_pretty_cards(bestCommunityCombination)"
   ]
  },
  {
   "cell_type": "code",
   "execution_count": 10,
   "metadata": {},
   "outputs": [],
   "source": [
    "enterHand = ['4d', '3s', 'As', '2d', '5c']"
   ]
  },
  {
   "cell_type": "code",
   "execution_count": 18,
   "metadata": {
    "pycharm": {
     "name": "#%%\n"
    }
   },
   "outputs": [
    {
     "name": "stdout",
     "output_type": "stream",
     "text": [
      "2855 179\n"
     ]
    },
    {
     "data": {
      "text/plain": "(False,\n ' [8♠],[J♥],[Q♠],[J♦],[8♣] ',\n ' [K♠],[7♠],[2♠],[2♣],[A♣],[3♦],[A♦],[K♣],[6♠],[3♣],[K♥] ',\n ' [K♠],[A♣],[A♦],[K♣],[K♥] ')"
     },
     "execution_count": 18,
     "metadata": {},
     "output_type": "execute_result"
    }
   ],
   "source": [
    "playPoker([], \"FirstTwoPair\")\n"
   ]
  }
 ],
 "metadata": {
  "kernelspec": {
   "display_name": "Python 3",
   "language": "python",
   "name": "python3"
  },
  "language_info": {
   "codemirror_mode": {
    "name": "ipython",
    "version": 3
   },
   "file_extension": ".py",
   "mimetype": "text/x-python",
   "name": "python",
   "nbconvert_exporter": "python",
   "pygments_lexer": "ipython3",
   "version": "3.7.2"
  }
 },
 "nbformat": 4,
 "nbformat_minor": 4
}