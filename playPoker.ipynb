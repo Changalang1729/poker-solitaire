{
 "cells": [
  {
   "cell_type": "code",
   "execution_count": 1,
   "metadata": {},
   "outputs": [],
   "source": [
    "import itertools\n",
    "from treys import Card\n",
    "from treys import Evaluator\n",
    "from treys import Deck"
   ]
  },
  {
   "cell_type": "code",
   "execution_count": 2,
   "metadata": {},
   "outputs": [],
   "source": [
    "def lget(l, index, default=None):\n",
    "    try:\n",
    "        return l[index]\n",
    "    except IndexError:\n",
    "        return default"
   ]
  },
  {
   "cell_type": "code",
   "execution_count": 3,
   "metadata": {},
   "outputs": [],
   "source": [
    "def typeOfCard(card, cardsDesired):\n",
    "    if not cardsDesired:\n",
    "        return True\n",
    "    \n",
    "    return card in cardsDesired"
   ]
  },
  {
   "cell_type": "code",
   "execution_count": 101,
   "metadata": {},
   "outputs": [],
   "source": [
    "%reload_ext autoreload\n",
    "%autoreload 2\n",
    "from strategies import firstNOfAKind, firstFlush\n",
    "\n",
    "# match keywords with parameters for function (N, additionalPair)\n",
    "validKeyWords = {'firstFive': (1,0), 'firstPair': (2,0), 'firstTwoPair': (2,1),\n",
    "                 'firstTrips': (3,0), 'firstFullHouse': (3, 1), 'firstQuads': (4,0),\n",
    "                 'firstFlush': None}\n",
    "\n",
    "def simulatePokerSolitaire(cardsDesired, keyWord = None):\n",
    "    playerCards, communityCards, deck = [], [], Deck()\n",
    "\n",
    "    if keyWord is None:\n",
    "        # run with cardsDesired\n",
    "        while len(playerCards) < 5 or len(communityCards) < 5:\n",
    "            card = deck.draw(1)\n",
    "            if len(playerCards) == 5:\n",
    "                communityCards.append(card)\n",
    "            elif typeOfCard(Card.print_pretty_card(card), Card.print_pretty_cards(cardsDesired)):\n",
    "                playerCards.append(card)\n",
    "            else:\n",
    "                communityCards.append(card)\n",
    "    elif keyWord not in validKeyWords:\n",
    "        raise SyntaxError(\"Invalid keyword\")\n",
    "    elif keyWord == 'firstFlush':\n",
    "        playerCards, communityCards = firstFlush(deck)\n",
    "    else:\n",
    "        N, additionalPair = validKeyWords[keyWord]\n",
    "        keyWord = 'firstNOfAKind' + '(deck, {}, {})'.format(N, additionalPair)\n",
    "        playerCards, communityCards = eval(keyWord)\n",
    "\n",
    "    return playerCards, communityCards"
   ]
  },
  {
   "cell_type": "code",
   "execution_count": 21,
   "metadata": {},
   "outputs": [],
   "source": [
    "def findBestCombination(totalCombinations, highestScore, evaluator):\n",
    "    for combination in totalCombinations:\n",
    "        if evaluator.evaluate(list(combination), []) == highestScore:\n",
    "            return list(combination)\n",
    "    \n",
    "    return None"
   ]
  },
  {
   "cell_type": "code",
   "execution_count": 22,
   "metadata": {},
   "outputs": [],
   "source": [
    "def evaluateBetterHand(playerCards, communityCards):\n",
    "    evaluator = Evaluator()\n",
    "    playerScore = evaluator.evaluate(playerCards, [])\n",
    "    totalCombinations = [combinationCommunityCards for combinationCommunityCards in itertools.combinations(communityCards, 5)]\n",
    "    highestScore = min(evaluator.evaluate(list(combination), []) for combination in totalCombinations)\n",
    "    bestCommunityCombination = findBestCombination(totalCombinations, highestScore, evaluator)\n",
    "    \n",
    "    print(playerScore, highestScore)\n",
    "    return highestScore >= playerScore, bestCommunityCombination"
   ]
  },
  {
   "cell_type": "code",
   "execution_count": 98,
   "metadata": {},
   "outputs": [],
   "source": [
    "# note CHAR_RANK_TO_INT_RANK function doesn't exist\n",
    "\n",
    "def playPoker(enterHand, keyWord = None):\n",
    "    numericCardHand = [((CHAR_RANK_TO_INT_RANK[lget(card, 0)] << 8) + \n",
    "                        (CHAR_SUIT_TO_INT_SUIT[lget(card, 1)] << 12)) for card in enterHand]\n",
    "    playerCards, communityCards = simulatePokerSolitaire(numericCardHand, keyWord)\n",
    "    playerWin, bestCommunityCombination = evaluateBetterHand(playerCards, communityCards)\n",
    "    \n",
    "    return playerWin, Card.print_pretty_cards(playerCards), Card.print_pretty_cards(communityCards), Card.print_pretty_cards(bestCommunityCombination)"
   ]
  },
  {
   "cell_type": "code",
   "execution_count": 43,
   "metadata": {},
   "outputs": [
    {
     "data": {
      "text/plain": "1"
     },
     "execution_count": 43,
     "metadata": {},
     "output_type": "execute_result"
    }
   ],
   "source": [
    "enterHand = ['4d', '3s', 'As', '2d', '5c']\n"
   ]
  },
  {
   "cell_type": "code",
   "execution_count": 113,
   "outputs": [
    {
     "name": "stdout",
     "output_type": "stream",
     "text": [
      "First Five Cards\n",
      "5013 6499\n",
      "(True, ' [7♣],[J♣],[3♦],[7♠],[9♥] ', ' [8♠],[6♥],[A♣],[9♠],[J♦] ', ' [8♠],[6♥],[A♣],[9♠],[J♦] ')\n",
      "\n",
      "First Pair\n",
      "4958 5452\n",
      "(True, ' [7♦],[3♥],[7♥],[K♥],[6♣] ', ' [5♠],[9♦],[4♦],[5♣],[J♣] ', ' [5♠],[9♦],[4♦],[5♣],[J♣] ')\n",
      "\n",
      "First Two Pair\n",
      "3039 5216\n",
      "(True, ' [7♦],[7♣],[2♣],[9♥],[9♣] ', ' [Q♦],[4♥],[5♥],[6♥],[6♠] ', ' [Q♦],[4♥],[5♥],[6♥],[6♠] ')\n",
      "\n",
      "First Trips\n",
      "1737 230\n",
      "(False, ' [3♦],[5♥],[K♦],[K♥],[K♣] ', ' [2♠],[8♠],[4♥],[9♣],[J♦],[4♦],[9♦],[J♥],[9♥],[2♥],[3♣],[3♥],[2♣],[Q♣] ', ' [9♣],[J♦],[9♦],[J♥],[9♥] ')\n",
      "\n",
      "First Full House\n",
      "178 182\n",
      "(True, ' [2♦],[A♣],[A♠],[2♠],[A♦] ', ' [8♥],[T♠],[7♣],[T♥],[7♦],[9♦],[K♠],[5♦],[5♥],[K♦],[J♦],[K♥],[9♣],[8♠],[3♥],[9♠] ', ' [T♠],[T♥],[K♠],[K♦],[K♥] ')\n",
      "\n",
      "First Quads\n",
      "46 4\n",
      "(False, ' [Q♣],[2♠],[Q♦],[Q♠],[Q♥] ', ' [8♥],[8♣],[7♦],[3♥],[7♥],[6♦],[A♦],[3♦],[9♦],[8♠],[6♣],[5♥],[A♥],[4♣],[8♦],[4♥],[2♥],[K♦],[T♦],[9♥],[J♥],[7♣],[5♠],[J♠],[4♦],[7♠],[T♥],[J♦],[3♠],[J♣],[9♠],[4♠],[5♦],[2♦],[K♥],[9♣],[6♠],[A♣],[6♥] ', ' [8♥],[7♥],[9♥],[J♥],[T♥] ')\n",
      "\n",
      "First Flush\n",
      "1019 1310\n",
      "(True, ' [8♦],[9♦],[K♦],[T♦],[7♦] ', ' [Q♠],[7♠],[Q♣],[3♥],[A♣],[8♣],[6♥],[K♣],[Q♥],[5♥],[T♠],[2♠],[9♥] ', ' [3♥],[6♥],[Q♥],[5♥],[9♥] ')\n"
     ]
    }
   ],
   "source": [
    "print('First Five Cards')\n",
    "print(playPoker([], \"firstFive\"))\n",
    "\n",
    "print('\\nFirst Pair')\n",
    "print(playPoker([], \"firstPair\"))\n",
    "\n",
    "print('\\nFirst Two Pair')\n",
    "print(playPoker([], \"firstTwoPair\"))\n",
    "\n",
    "print('\\nFirst Trips')\n",
    "print(playPoker([], \"firstTrips\"))\n",
    "\n",
    "print('\\nFirst Full House')\n",
    "print(playPoker([], \"firstFullHouse\"))\n",
    "\n",
    "print('\\nFirst Quads')\n",
    "print(playPoker([], \"firstQuads\"))\n",
    "\n",
    "print('\\nFirst Flush')\n",
    "print(playPoker([], \"firstFlush\"))\n"
   ],
   "metadata": {
    "collapsed": false,
    "pycharm": {
     "name": "#%%\n"
    }
   }
  }
 ],
 "metadata": {
  "kernelspec": {
   "display_name": "Python 3",
   "language": "python",
   "name": "python3"
  },
  "language_info": {
   "codemirror_mode": {
    "name": "ipython",
    "version": 3
   },
   "file_extension": ".py",
   "mimetype": "text/x-python",
   "name": "python",
   "nbconvert_exporter": "python",
   "pygments_lexer": "ipython3",
   "version": "3.7.2"
  }
 },
 "nbformat": 4,
 "nbformat_minor": 4
}