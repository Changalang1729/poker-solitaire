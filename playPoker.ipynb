{
 "cells": [
  {
   "cell_type": "code",
   "execution_count": 1,
   "metadata": {},
   "outputs": [],
   "source": [
    "import itertools\n",
    "from treys import Card\n",
    "from treys import Evaluator\n",
    "from treys import Deck"
   ]
  },
  {
   "cell_type": "code",
   "execution_count": 2,
   "metadata": {},
   "outputs": [],
   "source": [
    "def lget(l, index, default=None):\n",
    "    try:\n",
    "        return l[index]\n",
    "    except IndexError:\n",
    "        return default"
   ]
  },
  {
   "cell_type": "code",
   "execution_count": 5,
   "metadata": {},
   "outputs": [],
   "source": [
    "def typeOfCard(card, cardsDesired):\n",
    "    if not cardsDesired:\n",
    "        return True\n",
    "    \n",
    "    return card in cardsDesired"
   ]
  },
  {
   "cell_type": "code",
   "execution_count": 6,
   "metadata": {},
   "outputs": [],
   "source": [
    "def simulatePokerSolitaire(cardsDesired, keyWord):\n",
    "    playerCards, communityCards, deck = [], [], Deck()\n",
    "    \n",
    "    if keyWord == \"FirstFive\":\n",
    "        cardsDesired = []\n",
    "        cards = deck.draw(5)\n",
    "        for card in cards:\n",
    "            playerCards.append(card)\n",
    "    count = 0\n",
    "\n",
    "    while len(playerCards) != 5:\n",
    "        card = deck.draw(1)\n",
    "        count += 1\n",
    "        if typeOfCard(Card.print_pretty_card(card), Card.print_pretty_cards(cardsDesired)):\n",
    "            playerCards.append(card)\n",
    "        else:\n",
    "            communityCards.append(card)\n",
    "    \n",
    "    if len(communityCards) < 5:\n",
    "        numOfCardsNeeded = 5 - len(communityCards)\n",
    "        cards = deck.draw(numOfCardsNeeded)\n",
    "        for card in cards:\n",
    "            communityCards.append(card)\n",
    "            \n",
    "    return playerCards, communityCards"
   ]
  },
  {
   "cell_type": "code",
   "execution_count": 7,
   "metadata": {},
   "outputs": [],
   "source": [
    "def findBestCombination(totalCombinations, highestScore, evaluator):\n",
    "    for combination in totalCombinations:\n",
    "        if evaluator.evaluate(list(combination), []) == highestScore:\n",
    "            return list(combination)\n",
    "    \n",
    "    return None"
   ]
  },
  {
   "cell_type": "code",
   "execution_count": 8,
   "metadata": {},
   "outputs": [],
   "source": [
    "def evaluateBetterHand(playerCards, communityCards):\n",
    "    evaluator = Evaluator()\n",
    "    playerScore = evaluator.evaluate(playerCards, [])\n",
    "    totalCombinations = [combinationCommunityCards for combinationCommunityCards in itertools.combinations(communityCards, 5)]\n",
    "    highestScore = min(evaluator.evaluate(list(combination), []) for combination in totalCombinations)\n",
    "    bestCommunityCombination = findBestCombination(totalCombinations, highestScore, evaluator)\n",
    "    \n",
    "    print(playerScore, highestScore)\n",
    "    return highestScore >= playerScore, bestCommunityCombination"
   ]
  },
  {
   "cell_type": "code",
   "execution_count": 9,
   "metadata": {},
   "outputs": [],
   "source": [
    "def playPoker(enterHand, keyWord):\n",
    "    numericCardHand = [((CHAR_RANK_TO_INT_RANK[lget(card, 0)] << 8) + \n",
    "                        (CHAR_SUIT_TO_INT_SUIT[lget(card, 1)] << 12)) for card in enterHand]\n",
    "    playerCards, communityCards = simulatePokerSolitaire(numericCardHand, keyWord)\n",
    "    playerWin, bestCommunityCombination = evaluateBetterHand(playerCards, communityCards)\n",
    "    \n",
    "    return playerWin, Card.print_pretty_cards(playerCards), Card.print_pretty_cards(communityCards), Card.print_pretty_cards(bestCommunityCombination)"
   ]
  },
  {
   "cell_type": "code",
   "execution_count": 10,
   "metadata": {},
   "outputs": [],
   "source": [
    "enterHand = ['4d', '3s', 'As', '2d', '5c']"
   ]
  },
  {
   "cell_type": "code",
   "execution_count": 11,
   "metadata": {},
   "outputs": [
    {
     "name": "stdout",
     "output_type": "stream",
     "text": [
      "6340 4850\n"
     ]
    },
    {
     "data": {
      "text/plain": [
       "(False,\n",
       " ' [5♦],[6♣],[4♣],[K♣],[A♣] ',\n",
       " ' [7♦],[4♠],[8♦],[8♥],[5♠] ',\n",
       " ' [7♦],[4♠],[8♦],[8♥],[5♠] ')"
      ]
     },
     "execution_count": 11,
     "metadata": {},
     "output_type": "execute_result"
    }
   ],
   "source": [
    "playPoker([], \"FirstFive\")"
   ]
  },
  {
   "cell_type": "code",
   "execution_count": null,
   "metadata": {},
   "outputs": [],
   "source": []
  },
  {
   "cell_type": "code",
   "execution_count": null,
   "metadata": {},
   "outputs": [],
   "source": []
  }
 ],
 "metadata": {
  "kernelspec": {
   "display_name": "Python 3",
   "language": "python",
   "name": "python3"
  },
  "language_info": {
   "codemirror_mode": {
    "name": "ipython",
    "version": 3
   },
   "file_extension": ".py",
   "mimetype": "text/x-python",
   "name": "python",
   "nbconvert_exporter": "python",
   "pygments_lexer": "ipython3",
   "version": "3.7.7"
  }
 },
 "nbformat": 4,
 "nbformat_minor": 4
}
