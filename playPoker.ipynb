{
 "cells": [
  {
   "cell_type": "code",
   "execution_count": 6,
   "metadata": {},
   "outputs": [],
   "source": [
    "import sys\n",
    "import itertools\n",
    "import argparse\n",
    "\n",
    "from treys import Card\n",
    "from treys import Evaluator\n",
    "from treys import Deck\n",
    "\n",
    "from rules import *\n",
    "from utils import lget\n",
    "\n",
    "POKER_HAND_EVALUATOR = Evaluator()\n",
    "\n",
    "\n",
    "def isTypeOfCard(card, desiredCards):\n",
    "    for desiredCard in desiredCards:\n",
    "        if desiredCard in card:\n",
    "            desiredCards.remove(desiredCard)\n",
    "            return True\n",
    "    return False\n",
    "\n",
    "def simulatePokerSolitaire(desiredCards):\n",
    "    \"\"\"Simulates the game of playPoker.\n",
    "    Args:\n",
    "        cardsDesired: the cards that the\n",
    "        player specified to want to draw\n",
    "    Returns:\n",
    "        playerCards: the cards drawn by\n",
    "        the player\n",
    "        communityCards: the cards drawn by\n",
    "        the community\n",
    "    \"\"\"\n",
    "    playerCards, communityCards, deck = [], [], Deck()\n",
    "    while len(playerCards) < 5 or len(communityCards) < 5:\n",
    "        card = deck.draw(1)\n",
    "        if len(playerCards) < 5:\n",
    "            stringCardDrawn = Card.print_pretty_card(card)\n",
    "            if isTypeOfCard(stringCardDrawn, desiredCards):\n",
    "                playerCards.append(card)\n",
    "        communityCards.append(card)\n",
    "    \n",
    "    return playerCards, communityCards\n",
    "\n",
    "def findStrongestCombinationAndItsStrength(totalCombinations):\n",
    "    combination = totalCombinations[0]\n",
    "    handStrength = POKER_HAND_EVALUATOR.evaluate(list(combination), [])\n",
    "    for index in range(0, len(totalCombinations)):\n",
    "        tempHandStrength = POKER_HAND_EVALUATOR.evaluate(\n",
    "            list(totalCombinations[index]), []\n",
    "        )\n",
    "        if tempHandStrength <= handStrength:\n",
    "            handStrength = tempHandStrength\n",
    "            combination = totalCombinations[index]\n",
    "\n",
    "    return combination, handStrength\n",
    "\n",
    "\n",
    "def evaluateBetterHand(playerCards, communityCards):\n",
    "    \"\"\"Evaluates the stronger hand between the player's hand\n",
    "    and the community's strongest 5 card combination\n",
    "    Args:\n",
    "        playerCards --> player's 5 cards\n",
    "        communityCards --> community's collected cards\n",
    "    Returns:\n",
    "        boolean --> if playerHand is lower (stronger)\n",
    "        bestCommunityCombination --> strongest possible hand that\n",
    "        the community has\n",
    "    \"\"\"\n",
    "    playerHandStrength = POKER_HAND_EVALUATOR.evaluate(playerCards, [])\n",
    "    totalCombinations = list(itertools.combinations(communityCards, 5))\n",
    "\n",
    "    (\n",
    "        communityStrongestCombo,\n",
    "        communityHandStrength,\n",
    "    ) = findStrongestCombinationAndItsStrength(totalCombinations)\n",
    "\n",
    "    return (\n",
    "        communityHandStrength >= playerHandStrength,\n",
    "        communityStrongestCombo,\n",
    "    )\n",
    "\n",
    "\n",
    "def playPoker(enterHand):\n",
    "    enterHandInSymbols = [Card.print_pretty_card(Card.new(card)) if len(card) > 1 else card for card in enterHand]\n",
    "    print(enterHandInSymbols)\n",
    "    playerCards, communityCards = simulatePokerSolitaire(enterHandInSymbols)\n",
    "    playerWin, bestCommunityCombination = evaluateBetterHand(\n",
    "        playerCards, communityCards\n",
    "    )\n",
    "\n",
    "    return (\n",
    "        playerWin,\n",
    "        Card.print_pretty_cards(playerCards),\n",
    "        Card.print_pretty_cards(communityCards),\n",
    "        Card.print_pretty_cards(bestCommunityCombination),\n",
    "    )"
   ]
  },
  {
   "cell_type": "code",
   "execution_count": 7,
   "metadata": {},
   "outputs": [
    {
     "name": "stdout",
     "output_type": "stream",
     "text": [
      "['[4♦]', '3', '[A♠]', '[2♦]', '[5♣]']\n",
      "[8423187, 134253349, 33573149, 164099, 134224677, 270853, 268471337, 2114829, 8394515, 4212241, 1053707, 8406803, 2102541, 33564957, 81922, 67119647, 98306, 2106637, 557831, 33560861, 67115551, 268446761, 8398611, 69634, 134236965, 67144223, 73730, 268454953, 541447, 16783383, 533255, 268442665, 295429, 1065995, 4204049, 67127839, 16787479, 33589533, 134228773, 4199953, 4228625, 279045]\n"
     ]
    },
    {
     "data": {
      "text/plain": [
       "(False,\n",
       " ' [3♣],[2♦],[5♣],[A♠],[4♦] ',\n",
       " ' [9♣],[K♣],[J♦],[3♣],[K♠],[4♥],[A♣],[7♦],[9♠],[8♦],[6♠],[9♦],[7♠],[J♥],[2♦],[Q♥],[2♣],[7♥],[5♣],[J♠],[Q♠],[A♥],[9♥],[2♠],[K♦],[Q♣],[2♥],[A♦],[5♦],[T♠],[5♥],[A♠],[4♣],[6♦],[8♥],[Q♦],[T♥],[J♣],[K♥],[8♠],[8♣],[4♦] ',\n",
       " ' [J♥],[Q♥],[A♥],[T♥],[K♥] ')"
      ]
     },
     "execution_count": 7,
     "metadata": {},
     "output_type": "execute_result"
    }
   ],
   "source": [
    "enterHand = ['4d', '3', 'As', '2d', '5c']\n",
    "playPoker(enterHand)"
   ]
  },
  {
   "cell_type": "code",
   "execution_count": null,
   "metadata": {},
   "outputs": [],
   "source": [
    "enterHand = ['4d', '3s', 'As', '2d', '5c']\n",
    "x = [Card.print_pretty_card(Card.new(x)) if len(x) > 1 else card for x in enterHand]"
   ]
  },
  {
   "cell_type": "code",
   "execution_count": null,
   "metadata": {},
   "outputs": [],
   "source": [
    "cards = []\n",
    "for card in enterHand:\n",
    "    if len(card) > 1:\n",
    "        cards.append(Card.print_pretty_card(Card.new(card)))\n",
    "    else:\n",
    "        cards.append(card)"
   ]
  },
  {
   "cell_type": "code",
   "execution_count": null,
   "metadata": {},
   "outputs": [],
   "source": [
    "cards"
   ]
  },
  {
   "cell_type": "code",
   "execution_count": null,
   "metadata": {},
   "outputs": [],
   "source": [
    "print('3' in '[3♠]')"
   ]
  },
  {
   "cell_type": "code",
   "execution_count": 4,
   "metadata": {},
   "outputs": [],
   "source": [
    "x = itertools.combinations([98306, 33589533, 268446761, 268454953, 134224677, 1082379, 266757, 16795671, 8398611], 5)"
   ]
  },
  {
   "cell_type": "code",
   "execution_count": null,
   "metadata": {},
   "outputs": [],
   "source": [
    "for x in x:\n",
    "    print(x)"
   ]
  },
  {
   "cell_type": "code",
   "execution_count": null,
   "metadata": {},
   "outputs": [],
   "source": []
  }
 ],
 "metadata": {
  "kernelspec": {
   "display_name": "Python 3",
   "language": "python",
   "name": "python3"
  },
  "language_info": {
   "codemirror_mode": {
    "name": "ipython",
    "version": 3
   },
   "file_extension": ".py",
   "mimetype": "text/x-python",
   "name": "python",
   "nbconvert_exporter": "python",
   "pygments_lexer": "ipython3",
   "version": "3.9.0"
  }
 },
 "nbformat": 4,
 "nbformat_minor": 4
}
