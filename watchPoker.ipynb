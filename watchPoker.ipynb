{
 "cells": [
  {
   "cell_type": "code",
   "execution_count": 1,
   "metadata": {},
   "outputs": [],
   "source": [
    "from treys import Evaluator\n",
    "from treys import Card\n",
    "from treys import Deck\n",
    "from utils import lget\n",
    "import itertools"
   ]
  },
  {
   "cell_type": "code",
   "execution_count": 2,
   "metadata": {},
   "outputs": [],
   "source": [
    "class Poker:\n",
    "    def __init__(self, strategy=None, desiredCards=None):\n",
    "        self.strategy = strategy\n",
    "        self.desiredCards = [\n",
    "            Card.print_pretty_card(Card.new(card)) if len(card) > 1 else card\n",
    "            for card in desiredCards\n",
    "        ] if desiredCards else None\n",
    "        self.POKER_HAND_EVALUATOR = Evaluator()\n",
    "\n",
    "    def isTypeOfCard(self, card):\n",
    "        for desiredCard in self.desiredCards:\n",
    "            if desiredCard in card:\n",
    "                self.desiredCards.remove(desiredCard)\n",
    "                return True\n",
    "        return False\n",
    "\n",
    "    def simulatePokerStrategy(self):\n",
    "        playerCards, communityCards, deck = set(), set(), Deck()\n",
    "        while (desiredCombo := self.isDesiredHand(communityCards)) == None:\n",
    "            card = deck.draw(1)\n",
    "            communityCards.add(card)\n",
    "\n",
    "        communityCards -= set(desiredCombo)\n",
    "        communityCards |= set(deck.draw(5 - len(communityCards)))\n",
    "        playerCards = desiredCombo\n",
    "\n",
    "        return list(playerCards), list(communityCards)\n",
    "\n",
    "    \n",
    "    def simulatePokerGeneral(self):\n",
    "        playerCards, communityCards, deck = [], [], Deck()\n",
    "        while len(playerCards) != 5 or len(communityCards) < 5:\n",
    "            card = deck.draw(1)\n",
    "            if len(playerCards) != 5:\n",
    "                stringCardDrawn = Card.print_pretty_card(card)\n",
    "                if self.isTypeOfCard(stringCardDrawn):\n",
    "                    playerCards.append(card)\n",
    "                else: \n",
    "                    communityCards.append(card)\n",
    "\n",
    "        return playerCards, communityCards\n",
    "\n",
    "    # tech debt, should be done with polymorphism instead\n",
    "    def isDesiredHand(self, playerCards):\n",
    "        allSatisfiedHands, strongestComboIndex = [], 0\n",
    "\n",
    "        handRankingsUpperBoundsForStrats = {\n",
    "            \"straight\": (1609, 1600),\n",
    "            \"flush\": (1599, 323),\n",
    "            \"pair\": (6185, 3326),\n",
    "            \"two-pair\": (3325, 2468),\n",
    "            \"trips\": (2467, 1610),\n",
    "            \"boat\": (322, 167),\n",
    "            \"quads\": (166, 11),\n",
    "            \"royal\": (1, 1),\n",
    "            \"straight-flush\": (10, 1),\n",
    "        }\n",
    "\n",
    "        lowerBound, upperBound = handRankingsUpperBoundsForStrats[self.strategy]\n",
    "\n",
    "        totalCombinations = list(itertools.combinations(playerCards, 5))\n",
    "        for combination in totalCombinations:\n",
    "            handStrength = self.POKER_HAND_EVALUATOR.evaluate(list(combination), [])\n",
    "            if handStrength <= upperBound and handStrength >= lowerBound:\n",
    "                allSatisfiedHands.append(combination)\n",
    "\n",
    "        if allSatisfiedHands:\n",
    "            (_, strongestComboIndex) = max(\n",
    "                (self.POKER_HAND_EVALUATOR.evaluate(list(satisfiedHand), []), i)\n",
    "                for i, satisfiedHand in enumerate(allSatisfiedHands)\n",
    "            )\n",
    "\n",
    "        return lget(allSatisfiedHands, strongestComboIndex)\n",
    "\n",
    "    def isPlayerHandBetter(self, playerCards, communityCards):\n",
    "        if not playerCards or not communityCards:\n",
    "            print(\"ERROR: NO PLAYER CARDS OR NO COMMUNITY CARDS\")\n",
    "\n",
    "        playerHandStrength = self.POKER_HAND_EVALUATOR.evaluate(playerCards, [])\n",
    "        totalCombinations = list(itertools.combinations(communityCards, 5))\n",
    "        (communityHandStrength, communityHandComboIndex) = min(\n",
    "            (self.POKER_HAND_EVALUATOR.evaluate(list(combination), []), index)\n",
    "            for index, combination in enumerate(totalCombinations)\n",
    "        )\n",
    "\n",
    "        return (\n",
    "            playerHandStrength <= communityHandStrength,\n",
    "            totalCombinations[communityHandComboIndex],\n",
    "        )\n",
    "    \n",
    "    def playPoker(self):\n",
    "        if self.desiredCards and self.strategy:\n",
    "            print('ERROR: WE CANNOT HAVE BOTH A STRATEGY AND DESIRED CARDS')\n",
    "        playerCards, communityCards = self.simulatePokerGeneral() if self.desiredCards else self.simulatePokerStrategy()\n",
    "        playerWin, bestCommunityCombination = self.isPlayerHandBetter(playerCards, communityCards)\n",
    "        return (\n",
    "            playerWin,\n",
    "            Card.print_pretty_cards(playerCards),\n",
    "            Card.print_pretty_cards(communityCards),\n",
    "            Card.print_pretty_cards(bestCommunityCombination),\n",
    "        )\n",
    "        \n",
    "        "
   ]
  },
  {
   "cell_type": "code",
   "execution_count": 3,
   "metadata": {},
   "outputs": [],
   "source": [
    "poker = Poker(strategy= 'royal')"
   ]
  },
  {
   "cell_type": "code",
   "execution_count": 4,
   "metadata": {},
   "outputs": [],
   "source": [
    "poker.desiredCards"
   ]
  },
  {
   "cell_type": "code",
   "execution_count": 5,
   "metadata": {},
   "outputs": [
    {
     "data": {
      "text/plain": [
       "'royal'"
      ]
     },
     "execution_count": 5,
     "metadata": {},
     "output_type": "execute_result"
    }
   ],
   "source": [
    "poker.strategy"
   ]
  },
  {
   "cell_type": "code",
   "execution_count": 6,
   "metadata": {},
   "outputs": [
    {
     "name": "stdout",
     "output_type": "stream",
     "text": [
      "[16783383, 33560861, 67115551, 134224677, 268442665] [73730, 147715, 81922, 266757, 164099, 529159, 541447, 279045, 533255, 557831, 1053707, 2106637, 295429, 98306, 1065995, 4228625, 4204049, 8394515, 4199953, 4212241, 8406803, 16812055, 16787479, 8423187, 8398611, 33573149, 67144223, 67119647, 67127839, 134253349, 134228773, 268454953, 268471337, 268446761, 270853, 1057803, 1082379, 2114829, 69634]\n"
     ]
    },
    {
     "data": {
      "text/plain": [
       "(True,\n",
       " ' [T♠],[J♠],[Q♠],[K♠],[A♠] ',\n",
       " ' [2♥],[3♦],[2♦],[4♠],[3♣],[5♠],[5♦],[4♦],[5♥],[5♣],[6♠],[7♥],[4♣],[2♣],[6♦],[8♣],[8♥],[9♠],[8♠],[8♦],[9♦],[T♣],[T♥],[9♣],[9♥],[J♦],[Q♣],[Q♥],[Q♦],[K♣],[K♥],[A♦],[A♣],[A♥],[4♥],[6♥],[6♣],[7♦],[2♠] ',\n",
       " ' [7♥],[8♥],[T♥],[9♥],[6♥] ')"
      ]
     },
     "execution_count": 6,
     "metadata": {},
     "output_type": "execute_result"
    }
   ],
   "source": [
    "poker.playPoker()"
   ]
  },
  {
   "cell_type": "code",
   "execution_count": 9,
   "metadata": {},
   "outputs": [],
   "source": [
    "poker = Poker(desiredCards=['Th', 'A', 'K', 'Q', 'J'])\n"
   ]
  },
  {
   "cell_type": "code",
   "execution_count": 10,
   "metadata": {},
   "outputs": [
    {
     "data": {
      "text/plain": [
       "['[T♥]', 'A', 'K', 'Q', 'J']"
      ]
     },
     "execution_count": 10,
     "metadata": {},
     "output_type": "execute_result"
    }
   ],
   "source": [
    "poker.desiredCards"
   ]
  },
  {
   "cell_type": "code",
   "execution_count": 11,
   "metadata": {},
   "outputs": [],
   "source": [
    "poker.strategy"
   ]
  },
  {
   "cell_type": "code",
   "execution_count": 12,
   "metadata": {},
   "outputs": [
    {
     "name": "stdout",
     "output_type": "stream",
     "text": [
      "0\n",
      "1\n",
      "2\n",
      "3\n",
      "4\n",
      "5\n",
      "6\n",
      "7\n",
      "8\n",
      "9\n",
      "10\n",
      "11\n",
      "12\n",
      "13\n",
      "14\n",
      "15\n",
      "16\n",
      "17\n",
      "18\n",
      "19\n",
      "20\n",
      "21\n",
      "22\n",
      "23\n",
      "24\n",
      "25\n",
      "26\n",
      "27\n",
      "28\n",
      "[67127839, 268454953, 33560861, 134236965, 16787479] [541447, 2106637, 8423187, 266757, 1082379, 16783383, 81922, 4212241, 67115551, 1065995, 270853, 147715, 1053707, 135427, 8406803, 33564957, 2102541, 8394515, 529159, 16812055, 134224677, 67144223, 557831, 4199953]\n"
     ]
    },
    {
     "data": {
      "text/plain": [
       "(False,\n",
       " ' [Q♦],[A♦],[J♠],[K♦],[T♥] ',\n",
       " ' [5♦],[7♥],[9♣],[4♠],[6♣],[T♠],[2♦],[8♦],[Q♠],[6♦],[4♥],[3♦],[6♠],[3♠],[9♦],[J♥],[7♠],[9♠],[5♠],[T♣],[K♠],[Q♣],[5♣],[8♠] ',\n",
       " ' [T♠],[6♠],[7♠],[9♠],[8♠] ')"
      ]
     },
     "execution_count": 12,
     "metadata": {},
     "output_type": "execute_result"
    }
   ],
   "source": [
    "poker.playPoker()"
   ]
  },
  {
   "cell_type": "code",
   "execution_count": null,
   "metadata": {},
   "outputs": [],
   "source": []
  }
 ],
 "metadata": {
  "kernelspec": {
   "display_name": "Python 3",
   "language": "python",
   "name": "python3"
  },
  "language_info": {
   "codemirror_mode": {
    "name": "ipython",
    "version": 3
   },
   "file_extension": ".py",
   "mimetype": "text/x-python",
   "name": "python",
   "nbconvert_exporter": "python",
   "pygments_lexer": "ipython3",
   "version": "3.9.0"
  }
 },
 "nbformat": 4,
 "nbformat_minor": 4
}
