{
 "cells": [
  {
   "cell_type": "code",
   "execution_count": 1,
   "metadata": {},
   "outputs": [],
   "source": [
    "from treys import Evaluator\n",
    "from treys import Card\n",
    "from treys import Deck\n",
    "from utils import lget, setify\n",
    "import itertools"
   ]
  },
  {
   "cell_type": "code",
   "execution_count": 2,
   "metadata": {},
   "outputs": [],
   "source": [
    "class Poker:\n",
    "    def __init__(self, strategy=None, desiredCards=None):\n",
    "        self.strategy = strategy\n",
    "        self.desiredCards = (\n",
    "            [\n",
    "                Card.print_pretty_card(Card.new(card)) if len(card) > 1 else card\n",
    "                for card in desiredCards\n",
    "            ]\n",
    "            if desiredCards\n",
    "            else None\n",
    "        )\n",
    "        self.POKER_HAND_EVALUATOR = Evaluator()\n",
    "\n",
    "    def isTypeOfCard(self, card):\n",
    "        for desiredCard in self.desiredCards:\n",
    "            if desiredCard in card:\n",
    "                self.desiredCards.remove(desiredCard)\n",
    "                return True\n",
    "        return False\n",
    "\n",
    "    def simulatePokerStrategy(self):\n",
    "        playerCards, communityCards, deck = set(), set(), Deck()\n",
    "        while (desiredCombo := self.isDesiredHand(communityCards)) == None:\n",
    "            card = deck.draw(1)\n",
    "            communityCards.add(card)\n",
    "\n",
    "        communityCards -= setify(desiredCombo)\n",
    "        communityCards |= setify(deck.draw(5 - len(communityCards)))\n",
    "        playerCards = desiredCombo\n",
    "\n",
    "        return list(playerCards), list(communityCards)\n",
    "\n",
    "    def simulatePokerGeneral(self):\n",
    "        playerCards, communityCards, deck = [], [], Deck()\n",
    "        while len(playerCards) != 5 or len(communityCards) < 5:\n",
    "            card = deck.draw(1)\n",
    "            if len(playerCards) != 5:\n",
    "                stringCardDrawn = Card.print_pretty_card(card)\n",
    "                if self.isTypeOfCard(stringCardDrawn):\n",
    "                    playerCards.append(card)\n",
    "                else:\n",
    "                    communityCards.append(card)\n",
    "\n",
    "        return playerCards, communityCards\n",
    "\n",
    "    # tech debt, should be done with polymorphism instead\n",
    "    def isDesiredHand(self, playerCards):\n",
    "        allSatisfiedHands, strongestComboIndex = [], 0\n",
    "        handRankingsUpperBoundsForStrats = {\n",
    "            \"straight\": (1609, 1600),\n",
    "            \"flush\": (1599, 323),\n",
    "            \"pair\": (6185, 3326),\n",
    "            \"two-pair\": (3325, 2468),\n",
    "            \"trips\": (2467, 1610),\n",
    "            \"boat\": (322, 167),\n",
    "            \"quads\": (166, 11),\n",
    "            \"royal\": (1, 1),\n",
    "            \"straight-flush\": (10, 1),\n",
    "        }\n",
    "\n",
    "        lowerBound, upperBound = handRankingsUpperBoundsForStrats[self.strategy]\n",
    "\n",
    "        totalCombinations = list(itertools.combinations(playerCards, 5))\n",
    "        for combination in totalCombinations:\n",
    "            handStrength = self.POKER_HAND_EVALUATOR.evaluate(list(combination), [])\n",
    "            if handStrength >= upperBound and handStrength <= lowerBound:\n",
    "                allSatisfiedHands.append(combination)\n",
    "\n",
    "        if allSatisfiedHands:\n",
    "            (_, strongestComboIndex) = max(\n",
    "                (self.POKER_HAND_EVALUATOR.evaluate(list(satisfiedHand), []), i)\n",
    "                for i, satisfiedHand in enumerate(allSatisfiedHands)\n",
    "            )\n",
    "\n",
    "        return lget(allSatisfiedHands, strongestComboIndex)\n",
    "\n",
    "    def isPlayerHandBetter(self, playerCards, communityCards):\n",
    "        if not playerCards or not communityCards:\n",
    "            print(\"ERROR: NO PLAYER CARDS OR NO COMMUNITY CARDS\")\n",
    "\n",
    "        playerHandStrength = self.POKER_HAND_EVALUATOR.evaluate(playerCards, [])\n",
    "        totalCombinations = list(itertools.combinations(communityCards, 5))\n",
    "        (communityHandStrength, communityHandComboIndex) = min(\n",
    "            (self.POKER_HAND_EVALUATOR.evaluate(list(combination), []), index)\n",
    "            for index, combination in enumerate(totalCombinations)\n",
    "        )\n",
    "\n",
    "        return (\n",
    "            playerHandStrength <= communityHandStrength,\n",
    "            totalCombinations[communityHandComboIndex],\n",
    "        )\n",
    "\n",
    "    def playPoker(self):\n",
    "        if self.desiredCards and self.strategy:\n",
    "            print(\"ERROR: WE CANNOT HAVE BOTH A STRATEGY AND DESIRED CARDS\")\n",
    "        playerCards, communityCards = (\n",
    "            self.simulatePokerGeneral()\n",
    "            if self.desiredCards\n",
    "            else self.simulatePokerStrategy()\n",
    "        )\n",
    "        playerWin, bestCommunityCombination = self.isPlayerHandBetter(\n",
    "            playerCards, communityCards\n",
    "        )\n",
    "        return (\n",
    "            playerWin,\n",
    "            Card.print_pretty_cards(playerCards),\n",
    "            Card.print_pretty_cards(communityCards),\n",
    "            Card.print_pretty_cards(bestCommunityCombination),\n",
    "        )"
   ]
  },
  {
   "cell_type": "code",
   "execution_count": 3,
   "metadata": {},
   "outputs": [],
   "source": [
    "poker = Poker(strategy= 'two-pair')"
   ]
  },
  {
   "cell_type": "code",
   "execution_count": 4,
   "metadata": {},
   "outputs": [],
   "source": [
    "poker.desiredCards"
   ]
  },
  {
   "cell_type": "code",
   "execution_count": 5,
   "metadata": {},
   "outputs": [
    {
     "data": {
      "text/plain": [
       "'two-pair'"
      ]
     },
     "execution_count": 5,
     "metadata": {},
     "output_type": "execute_result"
    }
   ],
   "source": [
    "poker.strategy"
   ]
  },
  {
   "cell_type": "code",
   "execution_count": 6,
   "metadata": {},
   "outputs": [
    {
     "data": {
      "text/plain": [
       "(True,\n",
       " ' [2♥],[3♣],[3♠],[4♠],[4♦] ',\n",
       " ' [K♦],[7♠],[8♠],[9♥],[J♠] ',\n",
       " ' [K♦],[7♠],[8♠],[9♥],[J♠] ')"
      ]
     },
     "execution_count": 6,
     "metadata": {},
     "output_type": "execute_result"
    }
   ],
   "source": [
    "poker.playPoker()"
   ]
  },
  {
   "cell_type": "code",
   "execution_count": 7,
   "metadata": {},
   "outputs": [],
   "source": [
    "poker = Poker(desiredCards=['Th', 'A', 'K', 'Q', 'J'])\n"
   ]
  },
  {
   "cell_type": "code",
   "execution_count": 8,
   "metadata": {},
   "outputs": [
    {
     "data": {
      "text/plain": [
       "['[T♥]', 'A', 'K', 'Q', 'J']"
      ]
     },
     "execution_count": 8,
     "metadata": {},
     "output_type": "execute_result"
    }
   ],
   "source": [
    "poker.desiredCards"
   ]
  },
  {
   "cell_type": "code",
   "execution_count": 9,
   "metadata": {},
   "outputs": [],
   "source": [
    "poker.strategy"
   ]
  },
  {
   "cell_type": "code",
   "execution_count": 10,
   "metadata": {},
   "outputs": [
    {
     "data": {
      "text/plain": [
       "(False,\n",
       " ' [J♥],[A♣],[K♥],[Q♣],[T♥] ',\n",
       " ' [6♥],[6♠],[9♥],[4♦],[4♥],[A♦],[7♥],[K♦],[K♣],[5♣],[J♠],[8♥],[2♣],[7♣],[8♠],[T♦],[9♦],[7♦] ',\n",
       " ' [7♥],[K♦],[K♣],[7♣],[7♦] ')"
      ]
     },
     "execution_count": 10,
     "metadata": {},
     "output_type": "execute_result"
    }
   ],
   "source": [
    "poker.playPoker()"
   ]
  },
  {
   "cell_type": "code",
   "execution_count": null,
   "metadata": {},
   "outputs": [],
   "source": []
  }
 ],
 "metadata": {
  "kernelspec": {
   "display_name": "Python 3",
   "language": "python",
   "name": "python3"
  },
  "language_info": {
   "codemirror_mode": {
    "name": "ipython",
    "version": 3
   },
   "file_extension": ".py",
   "mimetype": "text/x-python",
   "name": "python",
   "nbconvert_exporter": "python",
   "pygments_lexer": "ipython3",
   "version": "3.9.0"
  }
 },
 "nbformat": 4,
 "nbformat_minor": 4
}
