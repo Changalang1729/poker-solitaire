{
 "cells": [
  {
   "cell_type": "code",
   "execution_count": 43,
   "metadata": {},
   "outputs": [],
   "source": [
    "from treys import Evaluator\n",
    "from treys import Card\n",
    "from treys import Deck\n",
    "from utils import *\n",
    "import itertools"
   ]
  },
  {
   "cell_type": "code",
   "execution_count": 44,
   "metadata": {},
   "outputs": [],
   "source": [
    "class Poker:\n",
    "    def __init__(self, strategy=None, desiredCards=None):\n",
    "        self.strategy = strategy\n",
    "        self.desiredCards = (\n",
    "            [\n",
    "                Card.print_pretty_card(Card.new(card)) if len(card) > 1 else card\n",
    "                for card in desiredCards\n",
    "            ]\n",
    "            if desiredCards\n",
    "            else None\n",
    "        )\n",
    "        self.POKER_HAND_EVALUATOR = Evaluator()\n",
    "\n",
    "    def isTypeOfCard(self, card):\n",
    "        for desiredCard in self.desiredCards:\n",
    "            if desiredCard in card:\n",
    "                self.desiredCards.remove(desiredCard)\n",
    "                return True\n",
    "        return False\n",
    "\n",
    "    def simulatePokerStrategy(self):\n",
    "        playerCards, communityCards, deck = set(), set(), Deck()\n",
    "        while (desiredCombo := self.isDesiredHand(communityCards)) == None:\n",
    "            card = deck.draw(1)\n",
    "            communityCards.add(card)\n",
    "\n",
    "        communityCards -= setify(desiredCombo)\n",
    "        communityCards |= setify(deck.draw(5 - len(communityCards)))\n",
    "        playerCards = desiredCombo\n",
    "\n",
    "        return list(playerCards), list(communityCards)\n",
    "\n",
    "    def simulatePokerGeneral(self):\n",
    "        playerCards, communityCards, deck = [], [], Deck()\n",
    "        while len(playerCards) != 5 or len(communityCards) < 5:\n",
    "            card = deck.draw(1)\n",
    "            if len(playerCards) != 5:\n",
    "                stringCardDrawn = Card.print_pretty_card(card)\n",
    "                if self.isTypeOfCard(stringCardDrawn):\n",
    "                    playerCards.append(card)\n",
    "                else:\n",
    "                    communityCards.append(card)\n",
    "\n",
    "        return playerCards, communityCards\n",
    "\n",
    "    # tech debt, should be done with polymorphism instead\n",
    "    def isDesiredHand(self, playerCards):\n",
    "        allSatisfiedHands, strongestComboIndex = [], 0\n",
    "        handRankingsUpperBoundsForStrats = {\n",
    "            \"straight\": (1609, 1600),\n",
    "            \"flush\": (1599, 323),\n",
    "            \"pair\": (6185, 3326),\n",
    "            \"two-pair\": (3325, 2468),\n",
    "            \"trips\": (2467, 1610),\n",
    "            \"boat\": (322, 167),\n",
    "            \"quads\": (166, 11),\n",
    "            \"royal\": (1, 1),\n",
    "            \"straight-flush\": (10, 1),\n",
    "        }\n",
    "\n",
    "        lowerBound, upperBound = handRankingsUpperBoundsForStrats[self.strategy]\n",
    "\n",
    "        totalCombinations = list(itertools.combinations(playerCards, 5))\n",
    "        for combination in totalCombinations:\n",
    "            handStrength = self.POKER_HAND_EVALUATOR.evaluate(list(combination), [])\n",
    "            if handStrength >= upperBound and handStrength <= lowerBound:\n",
    "                allSatisfiedHands.append(combination)\n",
    "\n",
    "        if allSatisfiedHands:\n",
    "            (_, strongestComboIndex) = max(\n",
    "                (self.POKER_HAND_EVALUATOR.evaluate(list(satisfiedHand), []), i)\n",
    "                for i, satisfiedHand in enumerate(allSatisfiedHands)\n",
    "            )\n",
    "\n",
    "        return lget(allSatisfiedHands, strongestComboIndex)\n",
    "\n",
    "    def isPlayerHandBetter(self, playerCards, communityCards):\n",
    "        if not playerCards or not communityCards:\n",
    "            print(\"ERROR: NO PLAYER CARDS OR NO COMMUNITY CARDS\")\n",
    "\n",
    "        playerHandStrength = self.POKER_HAND_EVALUATOR.evaluate(playerCards, [])\n",
    "        totalCombinations = list(itertools.combinations(communityCards, 5))\n",
    "        (communityHandStrength, communityHandComboIndex) = min(\n",
    "            (self.POKER_HAND_EVALUATOR.evaluate(list(combination), []), index)\n",
    "            for index, combination in enumerate(totalCombinations)\n",
    "        )\n",
    "\n",
    "        return (\n",
    "            playerHandStrength <= communityHandStrength,\n",
    "            totalCombinations[communityHandComboIndex],\n",
    "        )\n",
    "\n",
    "    def playPoker(self):\n",
    "        if self.desiredCards and self.strategy:\n",
    "            print(\"ERROR: WE CANNOT HAVE BOTH A STRATEGY AND DESIRED CARDS\")\n",
    "        playerCards, communityCards = (\n",
    "            self.simulatePokerGeneral()\n",
    "            if self.desiredCards\n",
    "            else self.simulatePokerStrategy()\n",
    "        )\n",
    "        playerWin, bestCommunityCombination = self.isPlayerHandBetter(\n",
    "            playerCards, communityCards\n",
    "        )\n",
    "        return (\n",
    "            playerWin,\n",
    "            Card.print_pretty_cards(playerCards),\n",
    "            Card.print_pretty_cards(communityCards),\n",
    "            Card.print_pretty_cards(bestCommunityCombination),\n",
    "        )"
   ]
  },
  {
   "cell_type": "code",
   "execution_count": 45,
   "metadata": {},
   "outputs": [],
   "source": [
    "poker = Poker(strategy= 'two-pair')"
   ]
  },
  {
   "cell_type": "code",
   "execution_count": 46,
   "metadata": {},
   "outputs": [],
   "source": [
    "poker.desiredCards"
   ]
  },
  {
   "cell_type": "code",
   "execution_count": 47,
   "metadata": {},
   "outputs": [
    {
     "data": {
      "text/plain": [
       "'two-pair'"
      ]
     },
     "execution_count": 47,
     "metadata": {},
     "output_type": "execute_result"
    }
   ],
   "source": [
    "poker.strategy"
   ]
  },
  {
   "cell_type": "code",
   "execution_count": 48,
   "metadata": {},
   "outputs": [
    {
     "ename": "NameError",
     "evalue": "name 'setify' is not defined",
     "output_type": "error",
     "traceback": [
      "\u001b[0;31m---------------------------------------------------------------------------\u001b[0m",
      "\u001b[0;31mNameError\u001b[0m                                 Traceback (most recent call last)",
      "\u001b[0;32m<ipython-input-48-a8d036987641>\u001b[0m in \u001b[0;36m<module>\u001b[0;34m\u001b[0m\n\u001b[0;32m----> 1\u001b[0;31m \u001b[0mpoker\u001b[0m\u001b[0;34m.\u001b[0m\u001b[0mplayPoker\u001b[0m\u001b[0;34m(\u001b[0m\u001b[0;34m)\u001b[0m\u001b[0;34m\u001b[0m\u001b[0;34m\u001b[0m\u001b[0m\n\u001b[0m",
      "\u001b[0;32m<ipython-input-44-bf6dd936a4e8>\u001b[0m in \u001b[0;36mplayPoker\u001b[0;34m(self)\u001b[0m\n\u001b[1;32m     97\u001b[0m             \u001b[0mself\u001b[0m\u001b[0;34m.\u001b[0m\u001b[0msimulatePokerGeneral\u001b[0m\u001b[0;34m(\u001b[0m\u001b[0;34m)\u001b[0m\u001b[0;34m\u001b[0m\u001b[0;34m\u001b[0m\u001b[0m\n\u001b[1;32m     98\u001b[0m             \u001b[0;32mif\u001b[0m \u001b[0mself\u001b[0m\u001b[0;34m.\u001b[0m\u001b[0mdesiredCards\u001b[0m\u001b[0;34m\u001b[0m\u001b[0;34m\u001b[0m\u001b[0m\n\u001b[0;32m---> 99\u001b[0;31m             \u001b[0;32melse\u001b[0m \u001b[0mself\u001b[0m\u001b[0;34m.\u001b[0m\u001b[0msimulatePokerStrategy\u001b[0m\u001b[0;34m(\u001b[0m\u001b[0;34m)\u001b[0m\u001b[0;34m\u001b[0m\u001b[0;34m\u001b[0m\u001b[0m\n\u001b[0m\u001b[1;32m    100\u001b[0m         )\n\u001b[1;32m    101\u001b[0m         playerWin, bestCommunityCombination = self.isPlayerHandBetter(\n",
      "\u001b[0;32m<ipython-input-44-bf6dd936a4e8>\u001b[0m in \u001b[0;36msimulatePokerStrategy\u001b[0;34m(self)\u001b[0m\n\u001b[1;32m     25\u001b[0m             \u001b[0mcommunityCards\u001b[0m\u001b[0;34m.\u001b[0m\u001b[0madd\u001b[0m\u001b[0;34m(\u001b[0m\u001b[0mcard\u001b[0m\u001b[0;34m)\u001b[0m\u001b[0;34m\u001b[0m\u001b[0;34m\u001b[0m\u001b[0m\n\u001b[1;32m     26\u001b[0m \u001b[0;34m\u001b[0m\u001b[0m\n\u001b[0;32m---> 27\u001b[0;31m         \u001b[0mcommunityCards\u001b[0m \u001b[0;34m-=\u001b[0m \u001b[0msetify\u001b[0m\u001b[0;34m(\u001b[0m\u001b[0mdesiredCombo\u001b[0m\u001b[0;34m)\u001b[0m\u001b[0;34m\u001b[0m\u001b[0;34m\u001b[0m\u001b[0m\n\u001b[0m\u001b[1;32m     28\u001b[0m         \u001b[0mcommunityCards\u001b[0m \u001b[0;34m|=\u001b[0m \u001b[0msetify\u001b[0m\u001b[0;34m(\u001b[0m\u001b[0mdeck\u001b[0m\u001b[0;34m.\u001b[0m\u001b[0mdraw\u001b[0m\u001b[0;34m(\u001b[0m\u001b[0;36m5\u001b[0m \u001b[0;34m-\u001b[0m \u001b[0mlen\u001b[0m\u001b[0;34m(\u001b[0m\u001b[0mcommunityCards\u001b[0m\u001b[0;34m)\u001b[0m\u001b[0;34m)\u001b[0m\u001b[0;34m)\u001b[0m\u001b[0;34m\u001b[0m\u001b[0;34m\u001b[0m\u001b[0m\n\u001b[1;32m     29\u001b[0m         \u001b[0mplayerCards\u001b[0m \u001b[0;34m=\u001b[0m \u001b[0mdesiredCombo\u001b[0m\u001b[0;34m\u001b[0m\u001b[0;34m\u001b[0m\u001b[0m\n",
      "\u001b[0;31mNameError\u001b[0m: name 'setify' is not defined"
     ]
    }
   ],
   "source": [
    "poker.playPoker()"
   ]
  },
  {
   "cell_type": "code",
   "execution_count": null,
   "metadata": {},
   "outputs": [],
   "source": [
    "poker = Poker(desiredCards=['Th', 'A', 'K', 'Q', 'J'])\n"
   ]
  },
  {
   "cell_type": "code",
   "execution_count": null,
   "metadata": {},
   "outputs": [],
   "source": [
    "poker.desiredCards"
   ]
  },
  {
   "cell_type": "code",
   "execution_count": null,
   "metadata": {},
   "outputs": [],
   "source": [
    "poker.strategy"
   ]
  },
  {
   "cell_type": "code",
   "execution_count": null,
   "metadata": {},
   "outputs": [],
   "source": [
    "poker.playPoker()"
   ]
  },
  {
   "cell_type": "code",
   "execution_count": null,
   "metadata": {},
   "outputs": [],
   "source": []
  }
 ],
 "metadata": {
  "kernelspec": {
   "display_name": "Python 3",
   "language": "python",
   "name": "python3"
  },
  "language_info": {
   "codemirror_mode": {
    "name": "ipython",
    "version": 3
   },
   "file_extension": ".py",
   "mimetype": "text/x-python",
   "name": "python",
   "nbconvert_exporter": "python",
   "pygments_lexer": "ipython3",
   "version": "3.9.0"
  }
 },
 "nbformat": 4,
 "nbformat_minor": 4
}
