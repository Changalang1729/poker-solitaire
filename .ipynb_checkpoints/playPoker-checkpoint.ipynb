{
 "cells": [
  {
   "cell_type": "code",
   "execution_count": 26,
   "metadata": {},
   "outputs": [],
   "source": [
    "import itertools\n",
    "from treys import Card\n",
    "from treys import Evaluator\n",
    "from treys import Deck"
   ]
  },
  {
   "cell_type": "code",
   "execution_count": 27,
   "metadata": {},
   "outputs": [],
   "source": [
    "def lget(l, index, default=None):\n",
    "    try:\n",
    "        return l[index]\n",
    "    except IndexError:\n",
    "        return default"
   ]
  },
  {
   "cell_type": "code",
   "execution_count": 28,
   "metadata": {},
   "outputs": [],
   "source": [
    "def typeOfCard(card, cardsDesired):\n",
    "    if not cardsDesired:\n",
    "        return True\n",
    "    \n",
    "    return card in cardsDesired"
   ]
  },
  {
   "cell_type": "code",
   "execution_count": 31,
   "metadata": {},
   "outputs": [],
   "source": [
    "def simulatePokerSolitaire(cardsDesired, keyWord):\n",
    "    playerCards, communityCards, deck = [], [], Deck()\n",
    "\n",
    "    # goes through deck_copy and determines which cards to select\n",
    "\n",
    "    deck_copy = deck\n",
    "    if keyWord == \"FirstFive\":\n",
    "        cardsDesired = [card for card in deck_copy.draw(5)]\n",
    "    elif keyWord == \"FirstFlush\":\n",
    "        cardsDesired = []\n",
    "        first_card = deck_copy(1)\n",
    "        first_suit = Card.print_pretty_card(card)[1]\n",
    "        cardsDesired.append(first_card)\n",
    "        while len(cardsDesired) < 5:\n",
    "            card = deck_copy.draw(1)\n",
    "            if Card.print_pretty_card(card)[1] == first_suit:\n",
    "                cardsDesired.append(card)\n",
    "    elif keyWord == \"FirstPair\":\n",
    "        \"\"\"\" takes first card and draws till it pairs it \"\"\"\n",
    "        first_card = deck_copy(1)\n",
    "        cardsDesired = [first_card]\n",
    "        while len(cardsDesired) < 5:\n",
    "            card = deck_copy.draw(1)\n",
    "            if Card.print_pretty_card(card)[0] == first_card:\n",
    "                cardsDesired.append(card)\n",
    "        # draw next three cards\n",
    "        cards = deck_copy.draw(3)\n",
    "        for card in cards:\n",
    "            cardsDesired.append(card)\n",
    "\n",
    "    # based on cardsDesired, simulate\n",
    "    while len(playerCards) != 5:\n",
    "        card = deck.draw(1)\n",
    "        if typeOfCard(Card.print_pretty_card(card), Card.print_pretty_cards(cardsDesired)):\n",
    "            playerCards.append(card)\n",
    "        else:\n",
    "            communityCards.append(card)\n",
    "    \n",
    "    if len(communityCards) < 5:\n",
    "        numOfCardsNeeded = 5 - len(communityCards)\n",
    "        cards = deck.draw(numOfCardsNeeded)\n",
    "        for card in cards:\n",
    "            communityCards.append(card)\n",
    "            \n",
    "    return playerCards, communityCards"
   ]
  },
  {
   "cell_type": "code",
   "execution_count": 32,
   "metadata": {},
   "outputs": [],
   "source": [
    "def findBestCombination(totalCombinations, highestScore, evaluator):\n",
    "    for combination in totalCombinations:\n",
    "        if evaluator.evaluate(list(combination), []) == highestScore:\n",
    "            return list(combination)\n",
    "    \n",
    "    return None"
   ]
  },
  {
   "cell_type": "code",
   "execution_count": 33,
   "metadata": {},
   "outputs": [],
   "source": [
    "def evaluateBetterHand(playerCards, communityCards):\n",
    "    evaluator = Evaluator()\n",
    "    playerScore = evaluator.evaluate(playerCards, [])\n",
    "    totalCombinations = [combinationCommunityCards for combinationCommunityCards in itertools.combinations(communityCards, 5)]\n",
    "    highestScore = min(evaluator.evaluate(list(combination), []) for combination in totalCombinations)\n",
    "    bestCommunityCombination = findBestCombination(totalCombinations, highestScore, evaluator)\n",
    "    \n",
    "    print(playerScore, highestScore)\n",
    "    return highestScore >= playerScore, bestCommunityCombination"
   ]
  },
  {
   "cell_type": "code",
   "execution_count": 34,
   "metadata": {},
   "outputs": [],
   "source": [
    "def playPoker(enterHand, keyWord):\n",
    "    numericCardHand = [((CHAR_RANK_TO_INT_RANK[lget(card, 0)] << 8) + \n",
    "                        (CHAR_SUIT_TO_INT_SUIT[lget(card, 1)] << 12)) for card in enterHand]\n",
    "    playerCards, communityCards = simulatePokerSolitaire(numericCardHand, keyWord)\n",
    "    playerWin, bestCommunityCombination = evaluateBetterHand(playerCards, communityCards)\n",
    "    \n",
    "    return playerWin, Card.print_pretty_cards(playerCards), Card.print_pretty_cards(communityCards), Card.print_pretty_cards(bestCommunityCombination)"
   ]
  },
  {
   "cell_type": "code",
   "execution_count": 10,
   "metadata": {},
   "outputs": [],
   "source": [
    "enterHand = ['4d', '3s', 'As', '2d', '5c']"
   ]
  },
  {
   "cell_type": "code",
   "execution_count": 35,
   "metadata": {},
   "outputs": [
    {
     "ename": "IndexError",
     "evalue": "pop from empty list",
     "output_type": "error",
     "traceback": [
      "\u001b[0;31m---------------------------------------------------------------------------\u001b[0m",
      "\u001b[0;31mIndexError\u001b[0m                                Traceback (most recent call last)",
      "\u001b[0;32m<ipython-input-35-abe61947a866>\u001b[0m in \u001b[0;36m<module>\u001b[0;34m\u001b[0m\n\u001b[0;32m----> 1\u001b[0;31m \u001b[0mplayPoker\u001b[0m\u001b[0;34m(\u001b[0m\u001b[0;34m[\u001b[0m\u001b[0;34m]\u001b[0m\u001b[0;34m,\u001b[0m \u001b[0;34m\"FirstFive\"\u001b[0m\u001b[0;34m)\u001b[0m\u001b[0;34m\u001b[0m\u001b[0;34m\u001b[0m\u001b[0m\n\u001b[0m",
      "\u001b[0;32m<ipython-input-34-94b807472367>\u001b[0m in \u001b[0;36mplayPoker\u001b[0;34m(enterHand, keyWord)\u001b[0m\n\u001b[1;32m      2\u001b[0m     numericCardHand = [((CHAR_RANK_TO_INT_RANK[lget(card, 0)] << 8) + \n\u001b[1;32m      3\u001b[0m                         (CHAR_SUIT_TO_INT_SUIT[lget(card, 1)] << 12)) for card in enterHand]\n\u001b[0;32m----> 4\u001b[0;31m     \u001b[0mplayerCards\u001b[0m\u001b[0;34m,\u001b[0m \u001b[0mcommunityCards\u001b[0m \u001b[0;34m=\u001b[0m \u001b[0msimulatePokerSolitaire\u001b[0m\u001b[0;34m(\u001b[0m\u001b[0mnumericCardHand\u001b[0m\u001b[0;34m,\u001b[0m \u001b[0mkeyWord\u001b[0m\u001b[0;34m)\u001b[0m\u001b[0;34m\u001b[0m\u001b[0;34m\u001b[0m\u001b[0m\n\u001b[0m\u001b[1;32m      5\u001b[0m     \u001b[0mplayerWin\u001b[0m\u001b[0;34m,\u001b[0m \u001b[0mbestCommunityCombination\u001b[0m \u001b[0;34m=\u001b[0m \u001b[0mevaluateBetterHand\u001b[0m\u001b[0;34m(\u001b[0m\u001b[0mplayerCards\u001b[0m\u001b[0;34m,\u001b[0m \u001b[0mcommunityCards\u001b[0m\u001b[0;34m)\u001b[0m\u001b[0;34m\u001b[0m\u001b[0;34m\u001b[0m\u001b[0m\n\u001b[1;32m      6\u001b[0m \u001b[0;34m\u001b[0m\u001b[0m\n",
      "\u001b[0;32m<ipython-input-31-aa6a0ea36629>\u001b[0m in \u001b[0;36msimulatePokerSolitaire\u001b[0;34m(cardsDesired, keyWord)\u001b[0m\n\u001b[1;32m     31\u001b[0m     \u001b[0;31m# based on cardsDesired, simulate\u001b[0m\u001b[0;34m\u001b[0m\u001b[0;34m\u001b[0m\u001b[0;34m\u001b[0m\u001b[0m\n\u001b[1;32m     32\u001b[0m     \u001b[0;32mwhile\u001b[0m \u001b[0mlen\u001b[0m\u001b[0;34m(\u001b[0m\u001b[0mplayerCards\u001b[0m\u001b[0;34m)\u001b[0m \u001b[0;34m!=\u001b[0m \u001b[0;36m5\u001b[0m\u001b[0;34m:\u001b[0m\u001b[0;34m\u001b[0m\u001b[0;34m\u001b[0m\u001b[0m\n\u001b[0;32m---> 33\u001b[0;31m         \u001b[0mcard\u001b[0m \u001b[0;34m=\u001b[0m \u001b[0mdeck\u001b[0m\u001b[0;34m.\u001b[0m\u001b[0mdraw\u001b[0m\u001b[0;34m(\u001b[0m\u001b[0;36m1\u001b[0m\u001b[0;34m)\u001b[0m\u001b[0;34m\u001b[0m\u001b[0;34m\u001b[0m\u001b[0m\n\u001b[0m\u001b[1;32m     34\u001b[0m         \u001b[0;32mif\u001b[0m \u001b[0mtypeOfCard\u001b[0m\u001b[0;34m(\u001b[0m\u001b[0mCard\u001b[0m\u001b[0;34m.\u001b[0m\u001b[0mprint_pretty_card\u001b[0m\u001b[0;34m(\u001b[0m\u001b[0mcard\u001b[0m\u001b[0;34m)\u001b[0m\u001b[0;34m,\u001b[0m \u001b[0mCard\u001b[0m\u001b[0;34m.\u001b[0m\u001b[0mprint_pretty_cards\u001b[0m\u001b[0;34m(\u001b[0m\u001b[0mcardsDesired\u001b[0m\u001b[0;34m)\u001b[0m\u001b[0;34m)\u001b[0m\u001b[0;34m:\u001b[0m\u001b[0;34m\u001b[0m\u001b[0;34m\u001b[0m\u001b[0m\n\u001b[1;32m     35\u001b[0m             \u001b[0mplayerCards\u001b[0m\u001b[0;34m.\u001b[0m\u001b[0mappend\u001b[0m\u001b[0;34m(\u001b[0m\u001b[0mcard\u001b[0m\u001b[0;34m)\u001b[0m\u001b[0;34m\u001b[0m\u001b[0;34m\u001b[0m\u001b[0m\n",
      "\u001b[0;32m/Library/Frameworks/Python.framework/Versions/3.7/lib/python3.7/site-packages/treys/deck.py\u001b[0m in \u001b[0;36mdraw\u001b[0;34m(self, n)\u001b[0m\n\u001b[1;32m     21\u001b[0m     \u001b[0;32mdef\u001b[0m \u001b[0mdraw\u001b[0m\u001b[0;34m(\u001b[0m\u001b[0mself\u001b[0m\u001b[0;34m,\u001b[0m \u001b[0mn\u001b[0m\u001b[0;34m=\u001b[0m\u001b[0;36m1\u001b[0m\u001b[0;34m)\u001b[0m\u001b[0;34m:\u001b[0m\u001b[0;34m\u001b[0m\u001b[0;34m\u001b[0m\u001b[0m\n\u001b[1;32m     22\u001b[0m         \u001b[0;32mif\u001b[0m \u001b[0mn\u001b[0m \u001b[0;34m==\u001b[0m \u001b[0;36m1\u001b[0m\u001b[0;34m:\u001b[0m\u001b[0;34m\u001b[0m\u001b[0;34m\u001b[0m\u001b[0m\n\u001b[0;32m---> 23\u001b[0;31m             \u001b[0;32mreturn\u001b[0m \u001b[0mself\u001b[0m\u001b[0;34m.\u001b[0m\u001b[0mcards\u001b[0m\u001b[0;34m.\u001b[0m\u001b[0mpop\u001b[0m\u001b[0;34m(\u001b[0m\u001b[0;36m0\u001b[0m\u001b[0;34m)\u001b[0m\u001b[0;34m\u001b[0m\u001b[0;34m\u001b[0m\u001b[0m\n\u001b[0m\u001b[1;32m     24\u001b[0m \u001b[0;34m\u001b[0m\u001b[0m\n\u001b[1;32m     25\u001b[0m         \u001b[0mcards\u001b[0m \u001b[0;34m=\u001b[0m \u001b[0;34m[\u001b[0m\u001b[0;34m]\u001b[0m\u001b[0;34m\u001b[0m\u001b[0;34m\u001b[0m\u001b[0m\n",
      "\u001b[0;31mIndexError\u001b[0m: pop from empty list"
     ]
    }
   ],
   "source": [
    "playPoker([], \"FirstFive\")"
   ]
  },
  {
   "cell_type": "code",
   "execution_count": 41,
   "metadata": {},
   "outputs": [
    {
     "data": {
      "text/plain": [
       "[67119647, 134253349]"
      ]
     },
     "execution_count": 41,
     "metadata": {},
     "output_type": "execute_result"
    }
   ],
   "source": [
    "d = Deck()\n",
    "d.ra\n",
    "copy = d\n",
    "copy.draw(2)"
   ]
  },
  {
   "cell_type": "code",
   "execution_count": null,
   "metadata": {},
   "outputs": [],
   "source": []
  }
 ],
 "metadata": {
  "kernelspec": {
   "display_name": "Python 3",
   "language": "python",
   "name": "python3"
  },
  "language_info": {
   "codemirror_mode": {
    "name": "ipython",
    "version": 3
   },
   "file_extension": ".py",
   "mimetype": "text/x-python",
   "name": "python",
   "nbconvert_exporter": "python",
   "pygments_lexer": "ipython3",
   "version": "3.7.2"
  }
 },
 "nbformat": 4,
 "nbformat_minor": 4
}
